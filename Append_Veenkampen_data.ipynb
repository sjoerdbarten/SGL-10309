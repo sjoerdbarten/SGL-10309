{
 "cells": [
  {
   "cell_type": "code",
   "execution_count": 1,
   "id": "a0921354",
   "metadata": {},
   "outputs": [],
   "source": [
    "import numpy as np\n",
    "import pandas as pd\n",
    "from os import listdir\n",
    "from os.path import isfile, join\n"
   ]
  },
  {
   "cell_type": "code",
   "execution_count": 2,
   "id": "1c1b1b1c",
   "metadata": {},
   "outputs": [
    {
     "name": "stdout",
     "output_type": "stream",
     "text": [
      "                date-time  year  month  day-of-month  hour   Rg      Ta  \\\n",
      "0      2023-01-01 0:00:00  2023      1             1     0  0.0  15.646   \n",
      "1      2023-01-01 1:00:00  2023      1             1     1  0.0  15.068   \n",
      "2      2023-01-01 2:00:00  2023      1             1     2  0.0  14.859   \n",
      "3      2023-01-01 3:00:00  2023      1             1     3  0.0  14.791   \n",
      "4      2023-01-01 4:00:00  2023      1             1     4  0.0  14.521   \n",
      "...                   ...   ...    ...           ...   ...  ...     ...   \n",
      "8755  2023-12-31 19:00:00  2023     12            31    19  0.0   8.943   \n",
      "8756  2023-12-31 20:00:00  2023     12            31    20  0.0   8.626   \n",
      "8757  2023-12-31 21:00:00  2023     12            31    21  0.0   8.596   \n",
      "8758  2023-12-31 22:00:00  2023     12            31    22  0.0   8.327   \n",
      "8759  2023-12-31 23:00:00  2023     12            31    23  0.0   8.731   \n",
      "\n",
      "          RH       u     P  smc_065  smc_125  smc_250  smc_500  \n",
      "0     56.820  10.428  0.00    0.676    0.669    0.676    0.710  \n",
      "1     60.116   9.612  0.00    0.676    0.669    0.676    0.710  \n",
      "2     58.726   8.255  0.00    0.676    0.669    0.676    0.710  \n",
      "3     57.428   7.796  0.00    0.676    0.668    0.675    0.710  \n",
      "4     60.013   7.247  0.00    0.676    0.668    0.675    0.710  \n",
      "...      ...     ...   ...      ...      ...      ...      ...  \n",
      "8755  72.656   8.997  0.00    0.693    0.695    0.693    0.723  \n",
      "8756  77.246   8.951  0.03    0.693    0.695    0.693    0.723  \n",
      "8757  76.862   9.494  0.00    0.693    0.695    0.693    0.723  \n",
      "8758  76.189   9.385  0.00    0.693    0.695    0.693    0.723  \n",
      "8759  73.722   9.772  0.00    0.693    0.695    0.693    0.723  \n",
      "\n",
      "[8760 rows x 14 columns]\n",
      "Index([], dtype='object')\n"
     ]
    },
    {
     "name": "stderr",
     "output_type": "stream",
     "text": [
      "C:\\Users\\barte035\\AppData\\Local\\Temp\\ipykernel_4792\\4253183989.py:37: FutureWarning: The frame.append method is deprecated and will be removed from pandas in a future version. Use pandas.concat instead.\n",
      "  df_complete = pd.read_csv('2013-2022/Data_Meteo_Veenkampen_2013-2022.csv',sep=';').append(df).reset_index().drop(['index'],axis=1)\n"
     ]
    }
   ],
   "source": [
    "datapath = '2013-2023/Veenkampen_data_2023/'\n",
    "\n",
    "df = pd.DataFrame()\n",
    "df = pd.concat([pd.read_csv(datapath+f, header=None) for f in listdir(datapath) if isfile(join(datapath, f))], axis=0)\n",
    "df[1] = df[1]-1\n",
    "df.index = pd.to_datetime(df[0].values) + pd.to_timedelta(df[1].values, unit='h')\n",
    "df['date-time'] = df.index.strftime('%Y-%m-%d %#H:%M:%S')\n",
    "df['year'] = df.index.year\n",
    "df['month'] = df.index.month\n",
    "df['day-of-month'] = df.index.day\n",
    "df['hour'] = df.index.hour\n",
    "df['Rg'] = df[19]\n",
    "df['Ta'] = df[2]\n",
    "df['RH'] = df[18]\n",
    "df['u'] = df[35]\n",
    "df['P'] = df[29]\n",
    "df['smc_065'] = df[72]\n",
    "df['smc_125'] = df[73]\n",
    "df['smc_250'] = df[74]\n",
    "df['smc_500'] = df[75]\n",
    "df = df.reset_index()\n",
    "df = df.drop([0,1,2,3,4,5,6,7,8,9,10,\n",
    "              10,11,12,13,14,15,16,17,18,19,\n",
    "              20,21,22,23,24,25,26,27,28,29,\n",
    "              30,31,32,33,34,35,36,37,38,39,\n",
    "              40,41,42,43,44,45,46,47,48,49,\n",
    "              50,51,52,53,54,55,56,57,58,59,\n",
    "              60,61,62,63,64,65,66,67,68,69,\n",
    "              70,71,72,73,74,75,76,77,78,79,\n",
    "              80,81,82,83,84,85,86,87,88,'index'],axis=1)\n",
    "\n",
    "print(df)\n",
    "print(pd.date_range(start='2023-01-01 00:00:00',end='2023-12-31 23:00:00',freq='H').strftime('%Y-%m-%d %#H:%M:%S').difference(df['date-time']))\n",
    "\n",
    "df.to_csv('Veenkampen_2023.csv')\n",
    "\n",
    "df_complete = pd.read_csv('2013-2022/Data_Meteo_Veenkampen_2013-2022.csv',sep=';').append(df).reset_index().drop(['index'],axis=1)\n",
    "df_complete.to_csv('2013-2023/Data_Meteo_Veenkampen_2013-2023.csv',index=False,sep=';')\n"
   ]
  },
  {
   "cell_type": "code",
   "execution_count": null,
   "id": "f77af0e6",
   "metadata": {},
   "outputs": [],
   "source": []
  }
 ],
 "metadata": {
  "kernelspec": {
   "display_name": "Python 3 (ipykernel)",
   "language": "python",
   "name": "python3"
  },
  "language_info": {
   "codemirror_mode": {
    "name": "ipython",
    "version": 3
   },
   "file_extension": ".py",
   "mimetype": "text/x-python",
   "name": "python",
   "nbconvert_exporter": "python",
   "pygments_lexer": "ipython3",
   "version": "3.9.13"
  }
 },
 "nbformat": 4,
 "nbformat_minor": 5
}
